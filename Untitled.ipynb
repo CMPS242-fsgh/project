{
 "cells": [
  {
   "cell_type": "code",
   "execution_count": 2,
   "metadata": {
    "collapsed": false
   },
   "outputs": [],
   "source": [
    "import json\n",
    "f = open('data/yelp_academic_dataset_business.json')\n",
    "m = {}\n",
    "cc = {}\n",
    "for line in f.readlines():\n",
    "    obj = json.loads(line)\n",
    "    m[obj['business_id']] = obj['categories']\n",
    "    for c in obj['categories']:\n",
    "        if cc.has_key(c):\n",
    "            cc[c] += 1\n",
    "        else:\n",
    "            cc[c] = 1"
   ]
  },
  {
   "cell_type": "code",
   "execution_count": 3,
   "metadata": {
    "collapsed": false
   },
   "outputs": [],
   "source": [
    "import matplotlib.pyplot as plt"
   ]
  },
  {
   "cell_type": "code",
   "execution_count": 33,
   "metadata": {
    "collapsed": false
   },
   "outputs": [],
   "source": [
    "def plot(cc):\n",
    "    plt.bar(range(len(cc)), cc.values(), align='center')\n",
    "    plt.xticks(range(len(cc)), cc.keys())\n",
    "    plt.show()"
   ]
  },
  {
   "cell_type": "code",
   "execution_count": 4,
   "metadata": {
    "collapsed": false
   },
   "outputs": [],
   "source": [
    "import operator\n",
    "sorted_cc = sorted(cc.items(), key=operator.itemgetter(1), reverse=True)"
   ]
  },
  {
   "cell_type": "code",
   "execution_count": 42,
   "metadata": {
    "collapsed": false
   },
   "outputs": [],
   "source": [
    "scc = sorted_cc[:30]\n",
    "plt.bar(range(len(scc)), map(lambda x: x[1], scc), align='center')\n",
    "plt.xticks(range(len(scc)), map(lambda x: x[0], scc), rotation='vertical')\n",
    "plt.show()"
   ]
  },
  {
   "cell_type": "code",
   "execution_count": 5,
   "metadata": {
    "collapsed": false
   },
   "outputs": [
    {
     "data": {
      "text/plain": [
       "[(u'Restaurants', 26729),\n",
       " (u'Shopping', 12444),\n",
       " (u'Food', 10143),\n",
       " (u'Beauty & Spas', 7490),\n",
       " (u'Health & Medical', 6106),\n",
       " (u'Home Services', 5866),\n",
       " (u'Nightlife', 5507),\n",
       " (u'Automotive', 4888),\n",
       " (u'Bars', 4727),\n",
       " (u'Local Services', 4041),\n",
       " (u'Active Life', 3455),\n",
       " (u'Fashion', 3395),\n",
       " (u'Event Planning & Services', 3237),\n",
       " (u'Fast Food', 3154),\n",
       " (u'Pizza', 2881),\n",
       " (u'Mexican', 2705),\n",
       " (u'Hotels & Travel', 2673),\n",
       " (u'Sandwiches', 2666),\n",
       " (u'American (Traditional)', 2608),\n",
       " (u'Arts & Entertainment', 2447)]"
      ]
     },
     "execution_count": 5,
     "metadata": {},
     "output_type": "execute_result"
    }
   ],
   "source": [
    "sorted_cc[:20]"
   ]
  },
  {
   "cell_type": "code",
   "execution_count": 44,
   "metadata": {
    "collapsed": false
   },
   "outputs": [
    {
     "data": {
      "text/plain": [
       "85901"
      ]
     },
     "execution_count": 44,
     "metadata": {},
     "output_type": "execute_result"
    }
   ],
   "source": [
    "len(m)"
   ]
  },
  {
   "cell_type": "code",
   "execution_count": 51,
   "metadata": {
    "collapsed": true
   },
   "outputs": [],
   "source": [
    "scc = sorted_cc[:10]\n",
    "plt.bar(range(len(scc)), map(lambda x: x[1], scc), align='center')\n",
    "plt.xticks(range(len(scc)), map(lambda x: x[0], scc), rotation='vertical')\n",
    "plt.show()"
   ]
  },
  {
   "cell_type": "code",
   "execution_count": null,
   "metadata": {
    "collapsed": true
   },
   "outputs": [],
   "source": []
  }
 ],
 "metadata": {
  "kernelspec": {
   "display_name": "Python 2",
   "language": "python",
   "name": "python2"
  },
  "language_info": {
   "codemirror_mode": {
    "name": "ipython",
    "version": 2
   },
   "file_extension": ".py",
   "mimetype": "text/x-python",
   "name": "python",
   "nbconvert_exporter": "python",
   "pygments_lexer": "ipython2",
   "version": "2.7.12"
  }
 },
 "nbformat": 4,
 "nbformat_minor": 0
}
