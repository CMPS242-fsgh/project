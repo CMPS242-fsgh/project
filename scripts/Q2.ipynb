{
 "cells": [
  {
   "cell_type": "code",
   "execution_count": 9,
   "metadata": {
    "collapsed": false
   },
   "outputs": [],
   "source": [
    "import os\n",
    "\n",
    "def load(path):\n",
    "    ham_list = list()\n",
    "    spam_list = list()\n",
    "    ham = path+'/ham'\n",
    "    spam = path+'/spam'\n",
    "\n",
    "    for f in os.listdir(ham):\n",
    "        f = open(os.path.join(ham, f))\n",
    "        ham_list.append(f.read().split())\n",
    "        f.close()\n",
    "    for f in os.listdir(spam):\n",
    "        f = open(os.path.join(spam, f))\n",
    "        spam_list.append(f.read().split())\n",
    "        f.close()    \n",
    "    return ham_list, spam_list\n",
    "\n",
    "ham_list = list()\n",
    "spam_list = list()\n",
    "for i in range(1,6):\n",
    "    ham, spam = load('data/enron'+str(i))\n",
    "    ham_list.extend(ham)\n",
    "    spam_list.extend(spam)\n",
    "    "
   ]
  },
  {
   "cell_type": "code",
   "execution_count": 10,
   "metadata": {
    "collapsed": false
   },
   "outputs": [],
   "source": [
    "from collections import defaultdict\n",
    "\n",
    "def train(ham_list, spam_list):\n",
    "    nh = len(ham_list)\n",
    "    ns = len(spam_list)\n",
    "\n",
    "    prior = {\n",
    "        'ham' : float(nh)/(nh+ns),\n",
    "        'spam': float(ns)/(nh+ns)\n",
    "    }\n",
    "    condprob = {\n",
    "        'ham' : defaultdict(float),\n",
    "        'spam' : defaultdict(float)\n",
    "    }\n",
    "    \n",
    "    v = {\n",
    "        'ham' : defaultdict(int),\n",
    "        'spam' : defaultdict(int)\n",
    "    }\n",
    "    voc = set()\n",
    "    ch = 0\n",
    "    cs = 0\n",
    "    for text in ham_list:\n",
    "        voc.update(text)\n",
    "        for word in text:\n",
    "            v['ham'][word] += 1\n",
    "            ch += 1\n",
    "    for text in spam_list:\n",
    "        voc.update(text)\n",
    "        for word in text:\n",
    "            v['spam'][word] += 1\n",
    "            cs += 1\n",
    "    word_count = len(voc)\n",
    "    \n",
    "    for word in voc:\n",
    "        count = v['ham'][word]\n",
    "        condprob['ham'][word] = float(count+1)/(ch+word_count)\n",
    "        #condprob['ham'][word] = float(count)/(ch)\n",
    "    for word in voc:\n",
    "        count = v['spam'][word]\n",
    "        condprob['spam'][word] = float(count+1)/(cs+word_count)\n",
    "        #condprob['spam'][word] = float(count)/(cs)\n",
    "    return prior, condprob, voc\n",
    "\n",
    "prior, condprob, voc = train(ham_list, spam_list)\n",
    "#prior, condprob, voc = train([['Chinese', 'Beijing', 'Chinese'],\n",
    "#                              ['Chinese', 'Chinese', 'Shanghai'],\n",
    "#                              ['Chinese', 'Macao']], \n",
    "#                             [['Tokyo', 'Japan', 'Chinese']])\n",
    "#prior, condprob "
   ]
  },
  {
   "cell_type": "code",
   "execution_count": 11,
   "metadata": {
    "collapsed": false
   },
   "outputs": [],
   "source": [
    "import math\n",
    "def test(data, prior, condprob, voc):\n",
    "    score_ham = math.log(prior['ham'])\n",
    "    score_spam = math.log(prior['spam'])\n",
    "    for word in data:\n",
    "        if word in voc:\n",
    "            score_ham += math.log(condprob['ham'][word])\n",
    "            score_spam += math.log(condprob['spam'][word])\n",
    "\n",
    "    return max((score_ham, False), (score_spam, True))\n",
    "\n",
    "test_ham, test_spam = load('data/enron6')\n",
    "r = n = p = 0\n",
    "for ham in test_ham:\n",
    "    _, result = test(ham, prior, condprob, voc)\n",
    "    if result:\n",
    "        p += 1\n",
    "    else:\n",
    "        r += 1\n",
    "        \n",
    "for spam in test_spam:\n",
    "    _, result = test(spam, prior, condprob, voc)\n",
    "    if result:\n",
    "        r += 1\n",
    "    else:\n",
    "        n += 1"
   ]
  },
  {
   "cell_type": "code",
   "execution_count": 12,
   "metadata": {
    "collapsed": false
   },
   "outputs": [
    {
     "data": {
      "text/plain": [
       "(5889, 42, 69)"
      ]
     },
     "execution_count": 12,
     "metadata": {},
     "output_type": "execute_result"
    }
   ],
   "source": [
    "r, n, p"
   ]
  },
  {
   "cell_type": "code",
   "execution_count": 13,
   "metadata": {
    "collapsed": false
   },
   "outputs": [
    {
     "data": {
      "text/plain": [
       "137152"
      ]
     },
     "execution_count": 13,
     "metadata": {},
     "output_type": "execute_result"
    }
   ],
   "source": [
    "len(voc)"
   ]
  },
  {
   "cell_type": "code",
   "execution_count": null,
   "metadata": {
    "collapsed": true
   },
   "outputs": [],
   "source": []
  }
 ],
 "metadata": {
  "kernelspec": {
   "display_name": "Python 2",
   "language": "python",
   "name": "python2"
  },
  "language_info": {
   "codemirror_mode": {
    "name": "ipython",
    "version": 2
   },
   "file_extension": ".py",
   "mimetype": "text/x-python",
   "name": "python",
   "nbconvert_exporter": "python",
   "pygments_lexer": "ipython2",
   "version": "2.7.12"
  }
 },
 "nbformat": 4,
 "nbformat_minor": 0
}
